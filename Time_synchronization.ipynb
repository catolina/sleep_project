{
 "cells": [
  {
   "cell_type": "markdown",
   "metadata": {
    "collapsed": true
   },
   "source": [
    "Neuroon cross-validation\n",
    "------------------------\n",
    "\n",
    "\n",
    "Neuroon and PSG recordings were simultanously collected over the course of two nights. This analysis will show whether Neuroon is able to accurately classify sleep stages. The PSG classification will be a benchmark against which Neuroon performance will be tested. \"The AASM Manual for te Scoring of Sleep ad Associated Events\" identifies 5 sleep stages: \n",
    "\n",
    "* Stage W (Wakefulness)\n",
    "* Stage N1 (NREM 1)\n",
    "* Stage N1 (NREM 2)\n",
    "* Stage N1 (NREM 3)\n",
    "* Stage R (REM)\n",
    "<img src=\"images/sleep_stages.png\">\n",
    "\n",
    "\n",
    "These stages can be identified following the rules guidelines in [1] either visually or digitally using combined information from EEG, EOG and EMG. Extensive research is beeing conducted on developing automated and simpler methods for sleep stage classification suitable for everyday home use (for a review see [2]). Automatic methods based on single channel EEG, which is the Neuroon category, were shown to work accurately when compared to PSG scoring [3].  \n",
    "\n",
    "[1] Berry RB BR, Gamaldo CE, Harding SM, Lloyd RM, Marcus CL, Vaughn BV; for the American Academy of Sleep Medicine. The AASM Manual for the Scoring of Sleep and Associated Events: Rules, Terminology and Technical Specifications.,Version 2.0.3. Darien, IL: American Academy of Sleep Medicine; 2014.\n",
    "\n",
    "[2] Van De Water, A. T. M., Holmes, A., & Hurley, D. a. (2011). Objective measurements of sleep for non-laboratory settings as alternatives to polysomnography - a systematic review. Journal of Sleep Research, 20, 183–200. \n",
    "\n",
    "[3] Berthomier, C., Drouot, X., Herman-Stoïca, M., Berthomier, P., Prado, J., Bokar-Thire, D. d’Ortho, M.P. (2007). Automatic analysis of single-channel sleep EEG: validation in healthy individuals. Sleep, 30(11), 1587–1595.\n"
   ]
  },
  {
   "cell_type": "markdown",
   "metadata": {
    "collapsed": true
   },
   "source": [
    "Signals time-synchronization using crosscorelation\n",
    "--------------------------------------------------\n",
    "\n",
    "Neuroon and PSG were recorded on devices with (probably) unsycnhronized clocks. First we will use a cross-correlation method [4] to find the time offset between the two recordings of eeg signals. Then, we will perform an analysis looking for additional time delays in the hypnograms, such that cannot be attributed to clocks synchronization. The following hipnogram analysis (link to notebook Cohen_cappa.ipynb) will be performed using the time delay identified in eeg crosscorrelation and not the hipnogram delay. This is because additional hipnograms delays reflect mislabeling of sleep stages in respect to time and correcting them would inflate the real performance of neuroon classifier. \n",
    "\n",
    "[4] Fridman, L., Brown, D. E., Angell, W., Abdić, I., Reimer, B., & Noh, H. Y. (2016). Automated synchronization of driving data using vibration and steering events. Pattern Recognition Letters, 75, 9-15.\n",
    "\n",
    "Define cross correlation function - code from: (http://lexfridman.com/blogs/research/2015/09/18/fast-cross-correlation-and-time-series-synchronization-in-python/)\n",
    "\n",
    "for other examlpes see: (http://stackoverflow.com/questions/4688715/find-time-shift-between-two-similar-waveforms)\n",
    "\n"
   ]
  },
  {
   "cell_type": "code",
   "execution_count": 3,
   "metadata": {
    "collapsed": false
   },
   "outputs": [
    {
     "name": "stdout",
     "output_type": "stream",
     "text": [
      "The autoreload extension is already loaded. To reload it, use:\n",
      "  %reload_ext autoreload\n"
     ]
    }
   ],
   "source": [
    "# Imports and setup \n",
    "\n",
    "%matplotlib inline\n",
    "%load_ext autoreload\n",
    "%autoreload 2\n",
    "\n",
    "import pandas as pd\n",
    "from numpy.fft import fft, ifft, fft2, ifft2, fftshift\n",
    "import numpy as np\n",
    "import matplotlib.pyplot as plt\n",
    "from matplotlib.dates import  DateFormatter\n",
    "import seaborn as sns\n",
    "from collections import OrderedDict \n",
    "from datetime import timedelta\n",
    "from itertools import tee\n",
    "\n",
    "plt.style.use('ggplot')\n",
    "plt.rcParams['figure.figsize'] = (9.0, 5.0)\n",
    "\n",
    "from parse_signal import load_psg, load_neuroon\n",
    "\n",
    "\n"
   ]
  },
  {
   "cell_type": "code",
   "execution_count": 4,
   "metadata": {
    "collapsed": true
   },
   "outputs": [],
   "source": [
    "# Cross-correlation function. Equivalent to numpy.correlate(x,y mode = 'full') but faster for large arrays \n",
    "# This function was tested against other cross correlation methods in -- LINK TO OTHER NOTEBOOK\n",
    "def cross_correlation_using_fft(x, y):\n",
    "    f1 = fft(x)\n",
    "    f2 = fft(np.flipud(y))\n",
    "    cc = np.real(ifft(f1 * f2))\n",
    "    return fftshift(cc)\n",
    " \n",
    "# shift < 0 means that y starts 'shift' time steps before x # shift > 0 means that y starts 'shift' time steps after x\n",
    "def compute_shift(x, y):\n",
    "    assert len(x) == len(y)\n",
    "    c = cross_correlation_using_fft(x, y)\n",
    "    assert len(c) == len(x)\n",
    "    zero_index = int(len(x) / 2) - 1\n",
    "    shift = zero_index - np.argmax(c)\n",
    "    return shift,c"
   ]
  },
  {
   "cell_type": "code",
   "execution_count": 5,
   "metadata": {
    "collapsed": false
   },
   "outputs": [],
   "source": [
    "# First crosscorrelate the whole signal to get the indication of where the shift might be. \n",
    "# Then, using this information divide the signal into n epochs that can inlude identified shift,\n",
    "# and test again to see if the same offset will be found in all epochs.\n",
    "\n",
    "def main_crosscorrelation(night):\n",
    "    psg_signal =  load_psg('F3-A2', night = night)\n",
    "    neuroon_signal =  load_neuroon(night = night)\n",
    "    print()\n",
    "    # Resample the signal  to 100hz to have arrays of the same length\n",
    "    psg_10 = psg_signal.resample('10ms').mean()\n",
    "    neuroon_10 = neuroon_signal.resample('10ms').mean()    \n",
    "\n",
    "    # Select a time window excluding the first hour where a lot of artifacts occured\n",
    "    neuroon_cut = neuroon_10.between_time('23:00','06:00')\n",
    "    psg_cut = psg_10.between_time('23:00','06:00')\n",
    "\n",
    "    # Compute the shoft for the cross correlation of the whole signal\n",
    "    shift, crosscorr = compute_shift(neuroon_cut, psg_cut)\n",
    "\n",
    "    # Plot it\n",
    "    fig, axes = plt.subplots()\n",
    "    axes.plot(crosscorr, label = 'crosscorrelation')\n",
    "    axes.set_xlim(0, len(crosscorr))\n",
    "\n",
    "    # Zero index indicates the correlation value where the signals are perfectly aligned\n",
    "    zero_index = int(len(crosscorr) / 2) - 1\n",
    "    axes.axvline(zero_index, color = 'blue', linestyle = '--', alpha = 0.5, label = 'zero index')\n",
    "\n",
    "    axes.set_title('Neuroon psg crosscorrelation')\n",
    "    axes.set_xlabel('time shift')\n",
    "    axes.set_ylabel('signals crosscorrelation')\n",
    "    \n",
    "    axes.legend()\n",
    "\n",
    "    print('max shift at %i samples'%shift)\n"
   ]
  },
  {
   "cell_type": "code",
   "execution_count": 6,
   "metadata": {
    "collapsed": false
   },
   "outputs": [
    {
     "name": "stdout",
     "output_type": "stream",
     "text": [
      "()\n",
      "max shift at -16047 samples\n"
     ]
    },
    {
     "data": {
      "image/png": "[encoded data removed]",
      "text/plain": [
       "<matplotlib.figure.Figure at 0x10acbe810>"
      ]
     },
     "metadata": {},
     "output_type": "display_data"
    }
   ],
   "source": [
    "# Look for crosscorrelation of the psg and neuroon signals in night 1\n",
    "main_crosscorrelation(1)\n",
    "\n",
    "# 0 samples shift coefficient is stored at the middle column -1.\n",
    "# shift < 0, or to the right of zero index, means that psg starts 'shift' time steps before neuroon\n",
    "# shift > 0, or to the left of zero index means that psg starts 'shift' time steps after neuroon\n",
    "\n",
    "#how max shift is calculated (from the function compute_shift():\n",
    "#zero_index = int(len(signal) / 2) - 1\n",
    "#   shift = zero_index - np.argmax(c)"
   ]
  },
  {
   "cell_type": "code",
   "execution_count": 7,
   "metadata": {
    "collapsed": false
   },
   "outputs": [
    {
     "name": "stdout",
     "output_type": "stream",
     "text": [
      "()\n",
      "max shift at -16061 samples\n"
     ]
    },
    {
     "data": {
      "image/png": "[encoded data removed]",
      "text/plain": [
       "<matplotlib.figure.Figure at 0x110181f10>"
      ]
     },
     "metadata": {},
     "output_type": "display_data"
    }
   ],
   "source": [
    "# and night 2\n",
    "main_crosscorrelation(2)"
   ]
  },
  {
   "cell_type": "markdown",
   "metadata": {},
   "source": [
    "Conclusion\n",
    "----------\n",
    "\n",
    "Crosscorrelation analysis of neuroon and psg signals collected over two nights produced the same results: neuroon clock is offset in respect to psg clock by negative ~ 160 secoonds. In other words psg starts 160 seconds before neuroon."
   ]
  },
  {
   "cell_type": "code",
   "execution_count": 8,
   "metadata": {
    "collapsed": false
   },
   "outputs": [],
   "source": [
    "\n",
    "# Divide the signal into 10 minutes epochs, since we know the maximum of correlation will be included in this window,\n",
    "# and look for maxima in all epochs\n",
    "def cross_correlate(night):\n",
    "    # Load the signal from hdf database and parse it to pandas series with datetime index\n",
    "    psg_signal =  load_psg('F3-A2', night = night)\n",
    "    neuroon_signal =  load_neuroon(night = night)\n",
    "    # Resample the signal to 100hz, to have the same length for cross correlation\n",
    "    psg_10 = psg_signal.resample('10ms').mean()\n",
    "    neuroon_10 = neuroon_signal.resample('10ms').mean()\n",
    "    \n",
    "    # Create ten minute intervals\n",
    "    dates_range = pd.date_range(psg_signal.head(1).index.get_values()[0], neuroon_signal.tail(1).index.get_values()[0], freq=\"10min\")\n",
    "    \n",
    "    # Convert datetime interval boundaries to string with only hours, minutes and seconds\n",
    "    dates_range = [d.strftime('%H:%M:%S') for d in dates_range]\n",
    "    \n",
    "    \n",
    "    all_coefs = []\n",
    "    \n",
    "    #  iterate over overlapping pairs of 10 minutes boundaries and cut epochs from the signal\n",
    "    for start, end in pairwise(dates_range):\n",
    "        # cut 10 minute epochs from the signal\n",
    "        neuroon_cut = neuroon_10.between_time(start, end)\n",
    "        psg_cut = psg_10.between_time(start, end)\n",
    "        \n",
    "        # Compute the correlation using fft convolution\n",
    "        shift, coeffs = compute_shift(neuroon_cut, psg_cut)\n",
    "        #normalize the coefficients because they will be shown on the same heatmap and need a common color scale\n",
    "        all_coefs.append((coeffs - coeffs.mean()) / coeffs.std())\n",
    "        \n",
    "        #print('max corr at shift %s is at sample %i with raw value %i'%(start, shift, max(coeffs)))\n",
    "\n",
    "    all_coefs = np.array(all_coefs)\n",
    "    return all_coefs, dates_range\n",
    "\n",
    "# This function is used to iterate over a list, taking two consecutive items at each iteration\n",
    "def pairwise(iterable):\n",
    "    \"s -> (s0,s1), (s1,s2), (s2, s3), ...\"\n",
    "    a, b = tee(iterable)\n",
    "    next(b, None)\n",
    "    return zip(a, b)"
   ]
  },
  {
   "cell_type": "code",
   "execution_count": null,
   "metadata": {
    "collapsed": false
   },
   "outputs": [],
   "source": [
    "from plotting_collection import plot_crosscorrelation_heatmap\n",
    "\n",
    "\n",
    "\n",
    "# Closer look at crosscorrelation in 10 minutes epochs for night 1\n",
    "coeffs_matrix, dates = cross_correlate(1)\n",
    "#Plot part of the coefficients matrix centered around the max average correlation for all 10 minute windows\n",
    "plot_crosscorrelation_heatmap(coeffs_matrix, dates, window = 500)"
   ]
  },
  {
   "cell_type": "markdown",
   "metadata": {},
   "source": [
    "* At 04:49:48 an additional 1 second lag appeared. This means the signal cannot be simply shifted by a single constant.\n",
    "* The lag is not constant, however it increases barely noticeabely by less than a 100ms from the first to the fifth hour of the recording."
   ]
  },
  {
   "cell_type": "code",
   "execution_count": null,
   "metadata": {
    "collapsed": false
   },
   "outputs": [],
   "source": [
    "# Closer look at crosscorrelation in 10 minutes epochs for night 2\n",
    "\n",
    "coeffs_matrix, dates = cross_correlate(2)\n",
    "#Plot part of the coefficients matrix centered around the max average correlation for all 10 minute windows\n",
    "plot_crosscorrelation_heatmap(coeffs_matrix, dates, window = 500)"
   ]
  },
  {
   "cell_type": "markdown",
   "metadata": {},
   "source": [
    "* During the second night the offset value was confirmed.\n",
    "* The additional 1 second lapse towards the end of the night did not appear."
   ]
  },
  {
   "cell_type": "code",
   "execution_count": null,
   "metadata": {
    "collapsed": false
   },
   "outputs": [],
   "source": [
    "# Now lets try plotting the signals with and without the time shift to see if the shift can be seen\n",
    "# No need to resample now, plotting against the datetime index will align the signals\n",
    "psg_signal = load_psg('F3-A2', night =1)\n",
    "neuroon_signal = load_neuroon(night = 1)\n",
    "\n",
    "# Get the time where we know the correlation was strong\n",
    "start = '03:52:10'\n",
    "end = '03:52:20'\n",
    "\n",
    "# Downsample signal to smoothen it and so bigger window can be shown on the plot while still readable\n",
    "neuroon_cut = neuroon_signal.between_time(start, end).resample('100ms').mean().as_matrix()\n",
    "psg_cut = psg_signal.between_time(start, end).resample('100ms').mean().as_matrix()\n",
    "\n",
    "# Normalize the signal to plot it on the same scale\n",
    "neuroon_cut = (neuroon_cut - neuroon_cut.mean()) / neuroon_cut.std()\n",
    "psg_cut = (psg_cut - psg_cut.mean()) / psg_cut.std()\n",
    "\n",
    "fig, axes = plt.subplots(2)\n",
    "# Plot the original signal\n",
    "axes[0].plot(neuroon_cut, color = 'r', alpha = 0.5, label = 'neuroon')\n",
    "axes[0].plot(psg_cut, color = 'b', alpha = 0.5, label = 'psg')\n",
    "axes[0].legend(loc = 'upper left')\n",
    "axes[0].set_ylabel('original')\n",
    "\n",
    "\n",
    "# Shift the signal by number of samples identified in cross correlation. Use the same shift freq as in crosscorrelation\n",
    "neuroon_cut2 = neuroon_signal.shift(-16056, freq = '10ms').between_time(start, end).resample('100ms').mean().as_matrix()\n",
    "psg_cut2 = psg_signal.between_time(start, end).resample('100ms').mean().as_matrix()\n",
    "# Normalize\n",
    "neuroon_cut2 = (neuroon_cut2 - neuroon_cut2.mean()) / neuroon_cut2.std()\n",
    "psg_cut2 = (psg_cut2 - psg_cut2.mean()) / psg_cut2.std()\n",
    "\n",
    "#Plot the time shifted signal\n",
    "axes[1].plot(neuroon_cut2, color = 'r', alpha = 0.5)\n",
    "axes[1].plot(psg_cut2, color = 'b', alpha = 0.5)\n",
    "axes[1].set_ylabel('neuroon shifted')\n",
    "\n",
    "for ax in axes:\n",
    "    ax.set_ylim(-4,4)\n",
    "    ax.set_xticklabels([])   \n",
    "    ax.set_yticklabels([])    \n",
    "\n"
   ]
  },
  {
   "cell_type": "markdown",
   "metadata": {},
   "source": [
    "Hipnogram time-delay\n",
    "--------------------\n",
    "From the crosscorrelation of the eeg signals we can see the two devices are off by 2 minutes 41 seconds. Now we'll see if there is a point in time where the hipnograms are most simmilar. The measure of hipnogram simmilarity will be the sum of times when two devices classified the same sleep stage.\n"
   ]
  },
  {
   "cell_type": "code",
   "execution_count": null,
   "metadata": {
    "collapsed": false
   },
   "outputs": [],
   "source": [
    "import parse_hipnogram as ph\n",
    "\n",
    "# load and parse the hipnograms\n",
    "neuroon_hipnogram = ph.parse_neuroon_stages()\n",
    "psg_hipnogram = ph.parse_psg_stages()\n",
    "\n",
    "# plot the hipnograms\n",
    "fig, axes = plt.subplots()\n",
    "\n",
    "axes.plot(neuroon_hipnogram.index, neuroon_hipnogram['stage_num'], color = 'r', alpha = 0.5, label ='neuroon')\n",
    "axes.plot(psg_hipnogram.index, psg_hipnogram['stage_num'], color = 'b', alpha = 0.5, label ='psg')\n",
    "\n",
    "axes.legend(loc = 'lower left')\n",
    "axes.set_yticks([1,2,3,4,5])\n",
    "axes.set_yticklabels(['rem','N1', 'N2', 'N3','wake'])\n",
    "axes.set_title('Hipnograms')\n",
    "\n",
    "\n",
    "\n",
    "# Calculate the time the two hipnograms are indicating the same sleep stage. \n",
    "# Repeat for different time shift of neuroon hipnogram.\n",
    "def intersect_with_shift(min_shift = -500, max_shift = 100):\n",
    "    \n",
    "    # Load and parse the hipnograms to a common format\n",
    "    psg_hipnogram = ph.parse_psg_stages(night = 1)\n",
    "    neuroon_hipnogram = ph.parse_neuroon_stages(night = 1)\n",
    "    \n",
    "    # Prepare a dict to save times where hipnograms were indicating the same stage \n",
    "    # Do not include N! since neuroon does not classify it\n",
    "    intersection = OrderedDict([('wake', []), ('rem',[]), ('N2',[]), ('N3', []), ('stages_sum', [])])\n",
    "    \n",
    "    # Define the shift in seconds to move the neuroon hipnogram by\n",
    "    shift_range = np.arange(-500, 100, 10)\n",
    "    \n",
    "    # Iterate and save intersection (i.e. overlap) times per time shift\n",
    "    for shift in shift_range:\n",
    "        # copy the hipnograms so the originals don't get time shifted (pass by reference)\n",
    "        sums, _, _ = get_hipnogram_intersection(neuroon_hipnogram.copy(), psg_hipnogram.copy(), shift)\n",
    "        \n",
    "        for stage, intersect_dur in sums.items():\n",
    "            # By appending to the intersection dict (dict of lists) we keep the list index mapped to shift value\n",
    "            intersection[stage].append(intersect_dur)\n",
    "    \n",
    "    return intersection, shift_range\n",
    "\n",
    "# Show how hipnogram is organized\n",
    "# Most important columns are:\n",
    "# 'stage_shift': str, either start or end. After 'get_hipnogram_intersection()' can be also inside\n",
    "    # This marks onset and offset of a stage recorded by the device\n",
    "# 'stage_num': int, code of the sleep stage\n",
    "psg_hipnogram.head(6)"
   ]
  },
  {
   "cell_type": "markdown",
   "metadata": {},
   "source": [
    "From a brief inspection we can see that:\n",
    "* neuroon never identified stage N1\n",
    "* neuroon had a smaller frequency of changing between sleep stages\n",
    "* neuroon in mostly identified sleep stage to be N2\n"
   ]
  },
  {
   "cell_type": "code",
   "execution_count": null,
   "metadata": {
    "collapsed": true
   },
   "outputs": [],
   "source": [
    "# Perhaps throw this cell out to a script\n",
    "\n",
    "# this function computes the intersection (i.e. overlap) between two hipnograms. \n",
    "# It is equivalent to subtracting one hipnogram from another and finding where the result of the subtraction equals 0\n",
    "\n",
    "# When shift != 0 then the intersection is calculated with time shift.\n",
    "def get_hipnogram_intersection(neuroon_hipnogram, psg_hipnogram, time_shift):\n",
    "    # Shift the hipnogram by time in seconds defined by 'time_shift' (can be negative) \n",
    "    neuroon_hipnogram.index = neuroon_hipnogram.index + timedelta(seconds = int(time_shift))\n",
    "    \n",
    "    # Join the two hipnograms. \n",
    "    # Because they are indexed with datetime the join will insert the rows of neuroon inbetween psg hipnograms\n",
    "    # in the corresponding times.\n",
    "    # Joining keeps original columns from both data frames\n",
    "    # new rows with nans in one of two original sets of columns will be inserted where indexes do not overlap (which is everywhere)\n",
    "    combined = psg_hipnogram.join(neuroon_hipnogram, how = 'outer', lsuffix = '_psg', rsuffix = '_neuro')\n",
    "    \n",
    "    # These nan rows will always occur between start and end of a sleep stage, so can be filled used bfill or ffill.\n",
    "    combined.loc[:, ['stage_num_psg', 'stage_name_psg', 'stage_num_neuro', \\\n",
    "                     'stage_name_neuro','event_number_psg', 'event_number_neuro']] = \\\n",
    "                combined.loc[:, ['stage_num_psg', 'stage_name_psg', 'stage_num_neuro', \\\n",
    "                                 'stage_name_neuro', 'event_number_psg', 'event_number_neuro']]\\\n",
    "                                .fillna( method = 'bfill')        \n",
    "    # Mark when a sleep stage defined by start and end gets new rows inserted inbetween.\n",
    "    # New rows are inserted when inbetween of start and end of stage recorded by one device, another device recorded start or end of a sleep stage\n",
    "    combined.loc[:, ['stage_shift_psg', 'stage_shift_neuro']] = \\\n",
    "                combined.loc[:, ['stage_shift_psg', 'stage_shift_neuro']].fillna( value = 'inside')      \n",
    "    \n",
    "    # From the sleep stage identified by psg subtract the sleep stage according to neuroon.\n",
    "    combined['overlap'] = combined['stage_num_psg'] - combined['stage_num_neuro']\n",
    "    \n",
    "    # Find rows where two devices identified the same stage\n",
    "    same_stage = combined.loc[combined['overlap'] == 0]\n",
    "    # Mark each occurence of same stage period with unique id number (event union)\n",
    "    same_stage.loc[:, 'event_union'] = same_stage['event_number_psg'] + same_stage['event_number_neuro']\n",
    "    \n",
    "    # prepare dict to save a list of all overlaps durations per stage (key)\n",
    "    all_durations = OrderedDict()\n",
    "    \n",
    "    # groupby event union, which will result in a dataframe with two rows,\n",
    "    # first row is the startt and second row is the end of the overlap event.\n",
    "    for stage_name, intersection in same_stage.groupby('event_union'):\n",
    "            \n",
    "            # Subtract the first row timestamp from the last to get the duration. \n",
    "            # Store as the duration in seconds.\n",
    "            duration = (intersection.index.to_series().iloc[-1]- intersection.index.to_series().iloc[0])\\\n",
    "            .total_seconds()\n",
    "            \n",
    "            # get at which stage overlap happened                    \n",
    "            stage_id = intersection.iloc[0, intersection.columns.get_loc('stage_name_neuro')] \n",
    "            \n",
    "            # Keep appending overlap durations to a list stored in a dict. Check if the list exists, if not create it.\n",
    "            if stage_id not in all_durations.keys():\n",
    "                all_durations[stage_id] = [duration]\n",
    "                \n",
    "            else:   \n",
    "                all_durations[stage_id].append(duration)\n",
    "            \n",
    "\n",
    "    # Calculate some statistics of the overlaps\n",
    "    means = OrderedDict()\n",
    "    stds = OrderedDict()\n",
    "    sums = OrderedDict()\n",
    "    stages_sum = 0\n",
    "    \n",
    "    #Adding it here so it is first item in ordered dict thus plotted on the left end.\n",
    "    sums['stages_sum'] = 0\n",
    "    # iterate over lists of overlap durations stored under stage name keys\n",
    "    for key, value in all_durations.items():\n",
    "        # Compute their statistics\n",
    "        means[key] = np.array(value).mean()\n",
    "        stds[key] = np.array(value).std()\n",
    "        sums[key] = np.array(value).sum()\n",
    "        # And the sum from all stages (i.e. not split between stages)\n",
    "        stages_sum += np.array(value).sum()   \n",
    "    \n",
    "    sums['stages_sum'] = stages_sum\n",
    "    \n",
    "    return sums, means, stds"
   ]
  },
  {
   "cell_type": "code",
   "execution_count": null,
   "metadata": {
    "collapsed": false
   },
   "outputs": [],
   "source": [
    "# Calculate the intersection at different time shifts\n",
    "intersection, shift_range = intersect_with_shift()"
   ]
  },
  {
   "cell_type": "code",
   "execution_count": null,
   "metadata": {
    "collapsed": false
   },
   "outputs": [],
   "source": [
    "from plotting_collection import plot_intersection\n",
    "plot_intersection(intersection, shift_range)"
   ]
  },
  {
   "cell_type": "markdown",
   "metadata": {},
   "source": [
    "Hipnogram analysis indicates the same direction of time delay - psg is 4 minutes 10 seconds before neuroon. The time delay is larger for the hipnograms than for the signals by 1 minute 30 seconds.\n",
    "Now lets see if the offset can be seen on a closer look to hipnograms.\n",
    "\n",
    "\n",
    "\n"
   ]
  },
  {
   "cell_type": "code",
   "execution_count": 11,
   "metadata": {
    "collapsed": false
   },
   "outputs": [
    {
     "data": {
      "text/plain": [
       "-250"
      ]
     },
     "execution_count": 11,
     "metadata": {},
     "output_type": "execute_result"
    }
   ],
   "source": [
    "max_overlap = shift_range[np.argmax(intersection['stages_sum'])]\n",
    "max_overlap"
   ]
  },
  {
   "cell_type": "code",
   "execution_count": 14,
   "metadata": {
    "collapsed": false
   },
   "outputs": [
    {
     "data": {
      "image/png": "[encoded data removed]",
      "text/plain": [
       "<matplotlib.figure.Figure at 0x112f46610>"
      ]
     },
     "metadata": {},
     "output_type": "display_data"
    }
   ],
   "source": [
    "# Compare the hipnograms with the identified time shift\n",
    "fig, axes = plt.subplots(2)\n",
    "axes[0].set_title('Hipnograms')\n",
    "\n",
    "start = '00:00'\n",
    "end = '02:00'\n",
    "\n",
    "# Load the original hipnograms\n",
    "neuroon_hipnogram = ph.parse_neuroon_stages()\n",
    "psg_hipnogram = ph.parse_psg_stages()\n",
    "\n",
    "# Select a time window\n",
    "neuroon_cut = neuroon_hipnogram.between_time(start, end)\n",
    "psg_cut = psg_hipnogram.between_time(start, end)\n",
    "\n",
    "\n",
    "# plot the original hipnograms\n",
    "axes[0].plot(neuroon_cut.index, neuroon_cut['stage_num'], color = 'r', alpha = 0.5)\n",
    "axes[0].plot(psg_cut.index, psg_cut['stage_num'], color = 'b', alpha = 0.5)\n",
    "\n",
    "# Repeat for the time shifted hipnograms\n",
    "# Identify the max shift\n",
    "max_overlap = shift_range[np.argmax(intersection['stages_sum'])]\n",
    "\n",
    "# parse the hipnogram and add the time shift\n",
    "neuroon_hipnogram = ph.parse_neuroon_stages(permute = False,time_shift = max_overlap)\n",
    "psg_hipnogram = ph.parse_psg_stages()\n",
    "\n",
    "neuroon_cut = neuroon_hipnogram.between_time(start, end)\n",
    "psg_cut = psg_hipnogram.between_time(start, end)\n",
    "\n",
    "# Plot the shifted\n",
    "axes[1].plot(neuroon_cut.index, neuroon_cut['stage_num'], color = 'r', alpha = 0.5, label ='neuroon')\n",
    "axes[1].plot(psg_cut.index, psg_cut['stage_num'], color = 'b', alpha = 0.5, label ='psg')\n",
    "\n",
    "# Format the figure\n",
    "for ax in axes:\n",
    "    ax.legend(loc = 'lower right')\n",
    "    ax.set_yticks([1,2,3,4,5])\n",
    "    ax.set_yticklabels(['rem','N1', 'N2', 'N3','wake'])\n",
    "    ax.xaxis.set_major_formatter( DateFormatter('%H:%M') )\n",
    "\n",
    "fig.autofmt_xdate()\n",
    "\n"
   ]
  },
  {
   "cell_type": "markdown",
   "metadata": {},
   "source": [
    "Conclusion\n",
    "----------\n",
    "\n",
    "* The neuroon eeg signal has a time delay in respect to psg of 2 min 40 sec. This delay is most likely due to unsycnchronized clocks between two recording devices, thus is expectable.\n",
    "* The neuroon hypnogram has a time delay of 4 min 10 seconds which is and additional 1 min 30 sec to what has been observed in eeg signals. This 1 min 30 sec delay cannot be explained by clock synchronization and is likely to originate from requirements of real time staging algorithm, for example collecting enough data points to perform fourier transform of the signal.\n",
    "* The hipnogram analysis will be performed using the time delay identified in eeg signnals cross correlation."
   ]
  },
  {
   "cell_type": "markdown",
   "metadata": {},
   "source": [
    "Todo: \n",
    "* add different correlation tests notebook\n",
    "* add spectral and pca analysis\n",
    "* Docstrings for scripts (not notebooks)"
   ]
  }
 ],
 "metadata": {
  "anaconda-cloud": {},
  "kernelspec": {
   "display_name": "Python 2",
   "language": "python",
   "name": "python2"
  },
  "language_info": {
   "codemirror_mode": {
    "name": "ipython",
    "version": 2
   },
   "file_extension": ".py",
   "mimetype": "text/x-python",
   "name": "python",
   "nbconvert_exporter": "python",
   "pygments_lexer": "ipython2",
   "version": "2.7.10"
  }
 },
 "nbformat": 4,
 "nbformat_minor": 0
}
