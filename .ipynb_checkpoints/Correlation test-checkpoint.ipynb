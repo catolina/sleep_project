{
 "cells": [
  {
   "cell_type": "code",
   "execution_count": 3,
   "metadata": {
    "collapsed": false
   },
   "outputs": [],
   "source": [
    "\n",
    "from parse_signal import load_psg, load_neuroon\n",
    "\n",
    "import numpy as np\n",
    "import matplotlib.pyplot as plt\n",
    "import pandas as pd\n",
    "from scipy import signal, fftpack\n",
    "from numpy.fft import fft, ifft, fft2, ifft2, fftshift\n",
    "from itertools import tee\n",
    "\n",
    "%load_ext autoreload\n",
    "%autoreload 2\n",
    "plt.style.use('ggplot')"
   ]
  },
  {
   "cell_type": "code",
   "execution_count": 5,
   "metadata": {
    "collapsed": true
   },
   "outputs": [],
   "source": [
    "def shift_test(a, b, hour = 'first'):\n",
    "\n",
    "    # Signal convolution correlation\n",
    "    corr1 = signal.correlate(a,b, mode = 'same')\n",
    "    # Positive lag means b starts after a, negative lag means a starts after b\n",
    "   \n",
    "    lag1 = int(len(a) / 2)  - np.argmax(corr1)\n",
    "    v = np.arange((-len(a))/2 +1, len(a)/2 +1, 1)\n",
    "\n",
    "    # FFT convolution correlation\n",
    "    lag2, corr2 = compute_shift(a, b)\n",
    "    \n",
    "    # previous method used\n",
    "    corr3 = correlate_with_time_shift(a,b)\n",
    "    lag3 = np.argmax(corr3)\n",
    "    \n",
    "    #Pandas based method\n",
    "    corr4 = pandas_crosscorr(a, b,min_lag =0,  max_lag=100 * 60 * 30)\n",
    "    lag4 = np.argmax(corr4)\n",
    "    \n",
    "    fig, axes = plt.subplots(5, sharex = False, figsize = (20,40))\n",
    "    for ax in axes:\n",
    "        ax.tick_params(axis='both', which='major', labelsize=8)\n",
    "        ax.tick_params(axis='both', which='minor', labelsize=8)\n",
    "        ax.spines['top'].set_visible(False)\n",
    "        \n",
    "    # fig.suptitle('neuroon signal delayed')\n",
    "    axes[0].plot(a, c = 'r', alpha = 0.5, label = 'neuroon')\n",
    "    axes[0].plot(b, c = 'b', alpha = 0.5, label = 'psg')\n",
    "    axes[0].legend()\n",
    "    \n",
    "    \n",
    "    \n",
    "    axes[1].plot(v,corr1)\n",
    "    axes[1].set_xlim(v[0], v[-1])\n",
    "    axes[1].set_title('offset found at %i seconds'%int(lag1 / 100), fontsize = 10)\n",
    "\n",
    "\n",
    "        \n",
    "\n",
    "    axes[2].plot(v,corr2)\n",
    "    axes[2].set_xlim(v[0], v[-1])\n",
    "    axes[2].set_title('offset found at %i seconds'%int(lag2 / 100), fontsize = 10)\n",
    "\n",
    "    \n",
    "    \n",
    "\n",
    "    axes[3].plot(corr3)\n",
    "    \n",
    "    axes[3].set_title('offset found at %i seconds'%int(-lag3 / 100), fontsize = 10)\n",
    "\n",
    "    #axes[3].set_xlim(0, len(corr3))\n",
    "\n",
    "    axes[0].set_ylabel('correlated signals')\n",
    "    axes[1].set_ylabel('correlation using\\n signal convolution')\n",
    "    axes[2].set_ylabel('correlation using\\n fft convolution')\n",
    "    axes[3].set_ylabel('correlation using\\n moving window')\n",
    "    axes[4].set_ylabel('correlation using\\n pandas shift')\n",
    "    axes[4].set_xlabel('offset in sample number')\n",
    "    \n",
    "\n",
    "    axes[4].plot(corr4)\n",
    "    axes[4].set_title('offset found at %i seconds'%int(-lag4 / 100), fontsize = 10)\n",
    "\n",
    "    print(lag1)\n",
    "    print(lag2)\n",
    "    print(lag3)\n",
    "    print(lag4)\n",
    "    plt.tight_layout()\n",
    "    \n",
    "    fig.savefig('figures/crosscorrelation/crosscorr%s.pdf'%hour) \n",
    "    "
   ]
  },
  {
   "cell_type": "code",
   "execution_count": 11,
   "metadata": {
    "collapsed": true
   },
   "outputs": [],
   "source": [
    "# Different cross correaltion functions used for testing\n",
    "def cross_correlation_using_fft(x, y):\n",
    "    f1 = fft(x)\n",
    "    f2 = fft(np.flipud(y))\n",
    "    cc = np.real(ifft(f1 * f2))\n",
    "    return fftshift(cc)\n",
    " \n",
    "# shift < 0 means that y starts 'shift' time steps before x # shift > 0 means that y starts 'shift' time steps after x\n",
    "def compute_shift(x, y):\n",
    "    assert len(x) == len(y)\n",
    "    c = cross_correlation_using_fft(x, y)\n",
    "    assert len(c) == len(x)\n",
    "    zero_index = int(len(x) / 2) - 1\n",
    "    shift = zero_index - np.argmax(c)\n",
    "    return shift,c\n",
    "    \n",
    "\n",
    "def correlate_with_time_shift(first_signal, second_signal):\n",
    "\n",
    "    max_shift = len(first_signal)/2# 35 min shift\n",
    "\n",
    "    #window_length = 100 * 60* 20 #20 min window for 100hz signal \n",
    "    window_length = int(len(first_signal) * 0.4) #20 min window for 100hz signal \n",
    "    \n",
    "    \n",
    "    correlation_array = np.zeros(max_shift)\n",
    "  \n",
    "    for i in range(max_shift):\n",
    "        correlation = np.correlate(\n",
    "        second_signal[i :i  + window_length], first_signal[0 : window_length]\n",
    "      \n",
    "        )\n",
    "        correlation_array[i] = correlation\n",
    "    return correlation_array\n",
    "\n",
    "def pandas_crosscorr(datax, datay, min_lag = 0,  max_lag=0):\n",
    "\n",
    "    lags = np.arange(min_lag, max_lag, 1)\n",
    "    \n",
    "    corrs = np.zeros(len(lags))\n",
    "    for idx,  lag in enumerate(lags):\n",
    "        #  print(idx)\n",
    "        c = datax.corr(datay.shift(lag))\n",
    "        corrs[idx] = c\n",
    "        \n",
    "    return np.array(corrs) \n",
    "\n",
    "def pairwise(iterable):\n",
    "    \"\"\"Used to iterate over a list elements organized in pairs\"\"\"\n",
    "    \"s -> (s0,s1), (s1,s2), (s2, s3), ...\"\n",
    "    a, b = tee(iterable)\n",
    "    next(b, None)\n",
    "    return zip(a, b)"
   ]
  },
  {
   "cell_type": "code",
   "execution_count": 14,
   "metadata": {
    "collapsed": true
   },
   "outputs": [],
   "source": [
    "def iterate_hours():\n",
    "    \n",
    "    psg_signal =  load_psg('F3-A2')\n",
    "    neuroon_signal =  load_neuroon()\n",
    "    \n",
    "    psg_10 = psg_signal.resample('10ms').mean()\n",
    "    neuroon_10 = neuroon_signal.resample('10ms').mean()\n",
    "    \n",
    "    for start, end in pairwise([ '23:00','00:00', '01:00', '02:00', '03:00', '04:00', '05:00', '06:00']):\n",
    "        plt.close('all')\n",
    "        print('start: %s'%start)\n",
    "        psg_cut = psg_10.between_time(start, end)\n",
    "        neuroon_cut = neuroon_10.between_time(start, end)\n",
    "            \n",
    "        shift_test(neuroon_cut ,psg_cut, hour = start)\n"
   ]
  },
  {
   "cell_type": "code",
   "execution_count": null,
   "metadata": {
    "collapsed": false
   },
   "outputs": [
    {
     "name": "stdout",
     "output_type": "stream",
     "text": [
      "start: 23:00\n"
     ]
    }
   ],
   "source": [
    "iterate_hours()"
   ]
  },
  {
   "cell_type": "code",
   "execution_count": null,
   "metadata": {
    "collapsed": true
   },
   "outputs": [],
   "source": []
  }
 ],
 "metadata": {
  "kernelspec": {
   "display_name": "Python 2",
   "language": "python",
   "name": "python2"
  },
  "language_info": {
   "codemirror_mode": {
    "name": "ipython",
    "version": 2
   },
   "file_extension": ".py",
   "mimetype": "text/x-python",
   "name": "python",
   "nbconvert_exporter": "python",
   "pygments_lexer": "ipython2",
   "version": "2.7.11"
  }
 },
 "nbformat": 4,
 "nbformat_minor": 1
}
