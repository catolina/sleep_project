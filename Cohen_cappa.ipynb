{
 "cells": [
  {
   "cell_type": "markdown",
   "metadata": {},
   "source": [
    "Neuroon evaluation using metric functions\n",
    "-----------------------------------------\n",
    "\n",
    "Here we will compare neuroon staging against psg staging assumed to be ground truth. Confusion matrixes for binarized staging for each sleep stage will be used to plot results in ROC plot. Cohen cappa will be used to determine if the simmilarity between neuroon and psg was obtained by chance or randomly. \n",
    "\n",
    "Permutation test on accuracy score will be used to complement Cohen cappa.\n",
    "Accuracy is defined as:\n",
    "\n",
    "$$\\frac{\\sum{TruePositive} + \\sum{TrueNegative}} {\\sum{TotalPopulation}}$$\n",
    "\n",
    "i.e. sum of confusion matrix diagonal divided by its total sum\n",
    "\n",
    "Cohen cappa is the percent agreement between two raters corrected for possibility of agreement by chance.\n",
    "Cohen cappa is defined as [1]:\n",
    "\n",
    "\n",
    "$$\\kappa = \\frac{P(a) - P(e)}{1-P(e)}$$\n",
    "\n",
    "* P(a) is the observed agreement\n",
    "* P(e) is the chance agreement\n",
    "\n",
    "$$ P(e) = \\frac{\\frac{cm^1 * rm^1}{n} + \\frac{cm^2 * rm^2}{n}}{n} $$\n",
    "\n",
    "where:\n",
    "* cm1 represents column 1 marginal\n",
    "* cm2 represents column 2 marginal\n",
    "* rm1 represents row 1 marginal\n",
    "* rm2 represents row 2 marginal\n",
    "\n",
    "n represents the total number of observations\n",
    "\n",
    "<img src=\"images/cohen_tresholds.png\" ,width=400, height=400> \n",
    "\n",
    "\n",
    "[1] Mchugh, M. L. (2012). Interrater reliability : the kappa statistic. Biochemia Medica., 22(3), 276–282."
   ]
  },
  {
   "cell_type": "code",
   "execution_count": 65,
   "metadata": {
    "collapsed": false
   },
   "outputs": [
    {
     "name": "stdout",
     "output_type": "stream",
     "text": [
      "The autoreload extension is already loaded. To reload it, use:\n",
      "  %reload_ext autoreload\n"
     ]
    }
   ],
   "source": [
    "import numpy as np\n",
    "import matplotlib.pyplot as plt\n",
    "import pandas as pd\n",
    "from collections import OrderedDict \n",
    "import parse_hipnogram as ph\n",
    "from sklearn.metrics import confusion_matrix\n",
    "from sklearn.metrics import cohen_kappa_score\n",
    "import sklearn.metrics as metrics\n",
    "from matplotlib.dates import  DateFormatter\n",
    "import seaborn as sns\n",
    "from datetime import timedelta\n",
    "plt.rcParams['figure.figsize'] = (9.0, 5.0)\n",
    "%matplotlib inline\n",
    "%load_ext autoreload\n",
    "%autoreload 2\n",
    "\n",
    "plt.style.use('ggplot')\n",
    "\n",
    "from statsmodels.stats.inter_rater import cohens_kappa, to_table\n",
    "labels = ['rem','N1', 'N2', 'N3','wake']\n",
    "\n",
    "stage_to_num = {'W':5, 'R':1, 'N1':2 , 'N2':3, 'N3':4 }\n",
    "dummy_dict = {'stage_1': 'rem', 'stage_2' : 'N1', 'stage_3' : 'N2', 'stage_4': 'N3', 'stage_5':'wake'}\n"
   ]
  },
  {
   "cell_type": "code",
   "execution_count": 66,
   "metadata": {
    "collapsed": false
   },
   "outputs": [],
   "source": [
    "# load hipnograms, resample them and select their common time window\n",
    "\n",
    "psg_hipnogram = ph.parse_psg_stages().resample('1s').fillna(method = 'ffill')\n",
    "neuroon_hipnogram = ph.parse_neuroon_stages().resample('1s').fillna(method = 'ffill')\n",
    "\n",
    "# Get the start and end of the time window covered by both hipnograms\n",
    "start = neuroon_hipnogram.index.searchsorted(psg_hipnogram.index.get_values()[0])\n",
    "end = psg_hipnogram.index.searchsorted(neuroon_hipnogram.index.get_values()[-1])\n",
    "\n",
    "# Trim hipnograms to the common time window so the confusion matrix calculations are accurate\n",
    "# +1 and -1 because events got cut in half, resulting in ends without starts\n",
    "neuroon_hipnogram = neuroon_hipnogram.ix[start ::]\n",
    "# +1 because upper bound is not included\n",
    "psg_hipnogram = psg_hipnogram.ix[0:end +1]"
   ]
  },
  {
   "cell_type": "code",
   "execution_count": 67,
   "metadata": {
    "collapsed": false
   },
   "outputs": [
    {
     "name": "stdout",
     "output_type": "stream",
     "text": [
      "             precision    recall  f1-score   support\n",
      "\n",
      "        rem       0.57      0.58      0.58      4710\n",
      "         N1       0.00      0.00      0.00      2760\n",
      "         N2       0.46      0.79      0.58     10110\n",
      "         N3       0.47      0.41      0.44      6690\n",
      "       wake       0.57      0.03      0.05      3643\n",
      "\n",
      "avg / total       0.45      0.48      0.42     27913\n",
      "\n",
      "accuracy: 0.48\n"
     ]
    }
   ],
   "source": [
    "# Create a list of staging predictions\n",
    "true_stage = psg_hipnogram['stage_num'].as_matrix()\n",
    "predicted_stage = neuroon_hipnogram['stage_num'].astype(int).as_matrix()\n",
    "\n",
    "# Compute precision, recall and f1-score for the multilabel classification from neuroon\n",
    "report = metrics.classification_report(true_stage,predicted_stage, target_names = labels )\n",
    "# Compute accuracy, give it this name to use after permutation\n",
    "original_accuracy = metrics.accuracy_score(true_stage,predicted_stage,)\n",
    "\n",
    "print(report)\n",
    "print('accuracy: %.2f'%original_accuracy)\n"
   ]
  },
  {
   "cell_type": "code",
   "execution_count": 68,
   "metadata": {
    "collapsed": true
   },
   "outputs": [],
   "source": [
    "def binarize_stages(hipnogram):\n",
    "    return pd.get_dummies(hipnogram, prefix = 'stage')"
   ]
  },
  {
   "cell_type": "code",
   "execution_count": 69,
   "metadata": {
    "collapsed": false
   },
   "outputs": [],
   "source": [
    "\n",
    "def confusion_matrix_separate():\n",
    "    # make a confusion matrix for each stage binarized (stage = 1, all_other = 0)\n",
    "    # TODO, neuroon stages saved as float, change to int upstream\n",
    "    neuroon_binarized = binarize_stages(neuroon_hipnogram['stage_num'].astype(int))\n",
    "    psg_binarized = binarize_stages(psg_hipnogram['stage_num'])\n",
    "    \n",
    "    fig, axes = plt.subplots(nrows = 2,ncols = 2, figsize = (8,8))\n",
    "    for neuroon_stage, ax in zip(neuroon_binarized, axes.reshape(-1)):\n",
    "        stage_true = neuroon_binarized[neuroon_stage].as_matrix()\n",
    "        stage_predicted = psg_binarized[neuroon_stage].as_matrix()\n",
    "        cm = confusion_matrix(stage_true, stage_predicted)\n",
    "        print(dummy_dict[neuroon_stage])\n",
    "        table = cohens_kappa(cm)\n",
    "        # uncomment to see other results, confidence intervals \n",
    "        print('max kappa %.2f'%table.kappa_max)\n",
    "        print(table)\n",
    "        \n",
    "\n",
    "        # Normalize the confusion matrix by row (i.e by the number of samplesin each class)\n",
    "        cm_normalized = cm.astype('float') / cm.sum(axis=1)[:, np.newaxis]\n",
    "\n",
    "        sns.heatmap(cm_normalized, annot = True, xticklabels = ['yes','no'],  yticklabels = ['yes','no'],fmt = '.2f', ax = ax)\n",
    "        \n",
    "        ax.set_title(dummy_dict[neuroon_stage] + '\\n Cohen cappa: %.2f'%table.kappa)\n",
    "        ax.set_ylabel('psg')\n",
    "        ax.set_xlabel('neuroon')\n",
    "        fig.tight_layout()"
   ]
  },
  {
   "cell_type": "code",
   "execution_count": 70,
   "metadata": {
    "collapsed": false
   },
   "outputs": [
    {
     "name": "stdout",
     "output_type": "stream",
     "text": [
      "rem\n",
      "max kappa 0.99\n",
      "                  Simple Kappa Coefficient\n",
      "              --------------------------------\n",
      "              Kappa                     0.4902\n",
      "              ASE                       0.0069\n",
      "              95% Lower Conf Limit      0.4766\n",
      "              95% Upper Conf Limit      0.5038\n",
      "\n",
      "                 Test of H0: Simple Kappa = 0\n",
      "\n",
      "              ASE under H0              0.0060\n",
      "              Z                         81.9062\n",
      "              One-sided Pr >  Z         0.0000\n",
      "              Two-sided Pr > |Z|        0.0000\n",
      "\n",
      "N2\n",
      "max kappa 0.52\n",
      "                  Simple Kappa Coefficient\n",
      "              --------------------------------\n",
      "              Kappa                     0.2331\n",
      "              ASE                       0.0050\n",
      "              95% Lower Conf Limit      0.2233\n",
      "              95% Upper Conf Limit      0.2429\n",
      "\n",
      "                 Test of H0: Simple Kappa = 0\n",
      "\n",
      "              ASE under H0              0.0053\n",
      "              Z                         44.2625\n",
      "              One-sided Pr >  Z         0.0000\n",
      "              Two-sided Pr > |Z|        0.0000\n",
      "\n",
      "N3\n",
      "max kappa 0.91\n",
      "                  Simple Kappa Coefficient\n",
      "              --------------------------------\n",
      "              Kappa                     0.2801\n",
      "              ASE                       0.0066\n",
      "              95% Lower Conf Limit      0.2672\n",
      "              95% Upper Conf Limit      0.2931\n",
      "\n",
      "                 Test of H0: Simple Kappa = 0\n",
      "\n",
      "              ASE under H0              0.0060\n",
      "              Z                         46.9967\n",
      "              One-sided Pr >  Z         0.0000\n",
      "              Two-sided Pr > |Z|        0.0000\n",
      "\n",
      "wake\n",
      "max kappa 0.08\n",
      "                  Simple Kappa Coefficient\n",
      "              --------------------------------\n",
      "              Kappa                     0.0421\n",
      "              ASE                       0.0046\n",
      "              95% Lower Conf Limit      0.0331\n",
      "              95% Upper Conf Limit      0.0511\n",
      "\n",
      "                 Test of H0: Simple Kappa = 0\n",
      "\n",
      "              ASE under H0              0.0024\n",
      "              Z                         17.6490\n",
      "              One-sided Pr >  Z         0.0000\n",
      "              Two-sided Pr > |Z|        0.0000\n",
      "\n"
     ]
    },
    {
     "data": {
      "image/png": "[encoded data removed]",
      "text/plain": [
       "<matplotlib.figure.Figure at 0x10f8a1410>"
      ]
     },
     "metadata": {},
     "output_type": "display_data"
    }
   ],
   "source": [
    "confusion_matrix_separate()"
   ]
  },
  {
   "cell_type": "code",
   "execution_count": 71,
   "metadata": {
    "collapsed": false
   },
   "outputs": [],
   "source": [
    "def permute_neuroon_staging():\n",
    "    # load hipnograms, resample them and select their common time window\n",
    "    neuroon_hipnogram = ph.parse_neuroon_stages(permute = True).resample('1s').fillna(method = 'ffill')\n",
    "    psg_hipnogram = ph.parse_psg_stages().resample('1s').fillna(method = 'ffill')\n",
    "\n",
    "    # Get the start and end of the time window covered by both hipnograms\n",
    "    start = neuroon_hipnogram.index.searchsorted(psg_hipnogram.index.get_values()[0])\n",
    "    end = psg_hipnogram.index.searchsorted(neuroon_hipnogram.index.get_values()[-1])\n",
    "\n",
    "    # Trim hipnograms to the common time window so the confusion matrix calculations are accurate\n",
    "    # +1 and -1 because events got cut in half, resulting in ends without starts\n",
    "    neuroon_hipnogram = neuroon_hipnogram.ix[start ::]\n",
    "    # +1 because upper bound is not included\n",
    "    psg_hipnogram = psg_hipnogram.ix[0:end +1]\n",
    "    \n",
    "    true_stage = psg_hipnogram['stage_num'].as_matrix()\n",
    "    predicted_stage = neuroon_hipnogram['stage_num'].astype(int).as_matrix()\n",
    "    \n",
    "    acc_score = metrics.accuracy_score(true_stage,predicted_stage,)\n",
    "    return acc_score"
   ]
  },
  {
   "cell_type": "code",
   "execution_count": 72,
   "metadata": {
    "collapsed": false
   },
   "outputs": [],
   "source": [
    "num_perm = 100\n",
    "permuted_accuracy = []\n",
    "for i in range(num_perm):\n",
    "    permuted_accuracy.append(permute_neuroon_staging())\n",
    "\n",
    "permuted_accuracy = np.array(permuted_accuracy)"
   ]
  },
  {
   "cell_type": "code",
   "execution_count": 76,
   "metadata": {
    "collapsed": false
   },
   "outputs": [
    {
     "data": {
      "text/plain": [
       "<matplotlib.axes._subplots.AxesSubplot at 0x10e639c10>"
      ]
     },
     "execution_count": 76,
     "metadata": {},
     "output_type": "execute_result"
    },
    {
     "data": {
      "image/png": "[encoded data removed]",
      "text/plain": [
       "<matplotlib.figure.Figure at 0x110509c10>"
      ]
     },
     "metadata": {},
     "output_type": "display_data"
    }
   ],
   "source": [
    "fig, axes = plt.subplots()\n",
    "axes.axvline(original_accuracy, color = 'k', linestyle = '--')\n",
    "sns.distplot(permuted_accuracy, ax = axes)"
   ]
  },
  {
   "cell_type": "code",
   "execution_count": null,
   "metadata": {
    "collapsed": true
   },
   "outputs": [],
   "source": []
  }
 ],
 "metadata": {
  "kernelspec": {
   "display_name": "Python 2",
   "language": "python",
   "name": "python2"
  },
  "language_info": {
   "codemirror_mode": {
    "name": "ipython",
    "version": 2
   },
   "file_extension": ".py",
   "mimetype": "text/x-python",
   "name": "python",
   "nbconvert_exporter": "python",
   "pygments_lexer": "ipython2",
   "version": "2.7.10"
  }
 },
 "nbformat": 4,
 "nbformat_minor": 1
}
